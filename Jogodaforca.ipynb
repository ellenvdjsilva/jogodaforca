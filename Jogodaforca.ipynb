{
  "nbformat": 4,
  "nbformat_minor": 0,
  "metadata": {
    "colab": {
      "provenance": [],
      "authorship_tag": "ABX9TyOlXYGgPXPat7duw6n18eGJ",
      "include_colab_link": true
    },
    "kernelspec": {
      "name": "python3",
      "display_name": "Python 3"
    },
    "language_info": {
      "name": "python"
    }
  },
  "cells": [
    {
      "cell_type": "markdown",
      "metadata": {
        "id": "view-in-github",
        "colab_type": "text"
      },
      "source": [
        "<a href=\"https://colab.research.google.com/github/ellenvdjsilva/jogodaforca/blob/main/Jogodaforca.ipynb\" target=\"_parent\"><img src=\"https://colab.research.google.com/assets/colab-badge.svg\" alt=\"Open In Colab\"/></a>"
      ]
    },
    {
      "cell_type": "code",
      "execution_count": null,
      "metadata": {
        "colab": {
          "base_uri": "https://localhost:8080/"
        },
        "id": "ByxciAs6_vA3",
        "outputId": "e4deda44-09e3-47cd-eb5a-437d0d24e17d"
      },
      "outputs": [
        {
          "output_type": "stream",
          "name": "stdout",
          "text": [
            "Digite uma letra: 5\n",
            "AFFF: a letra \"5\" não existe na palavra secreta\n",
            "******\n",
            " ******\n",
            "Voce tem 2 chances.\n",
            "\n",
            "Digite uma letra: u\n",
            "AFFF: a letra \"u\" não existe na palavra secreta\n",
            "******\n",
            " ******\n",
            "Voce tem 1 chances.\n",
            "\n",
            "Digite uma letra: i\n",
            "AFFF: a letra \"i\" não existe na palavra secreta\n",
            "******\n",
            " ******\n",
            "Voce tem 0 chances.\n",
            "\n",
            "Voce perdeu\n"
          ]
        }
      ],
      "source": [
        "secreto = 'helena'\n",
        "digitadas = []\n",
        "chances = 3\n",
        "\n",
        "while True:\n",
        "  if chances <= 0:\n",
        "    print('Voce perdeu')\n",
        "    break\n",
        "  letra = input('Digite uma letra: ')\n",
        "  if len(letra) > 1:\n",
        "    print('Ahh isso nao vale, apenas letras')\n",
        "    continue\n",
        "  digitadas.append(letra) \n",
        "  if letra in secreto:\n",
        "    print(f'UHULLL, a letra \"{letra}\" existe na palavra secreta')\n",
        "  else:\n",
        "    print(f'AFFF: a letra \"{letra}\" não existe na palavra secreta')\n",
        "    digitadas.pop()\n",
        "  secreto_temporario = ''  \n",
        "  for letra_secreta in secreto:\n",
        "    if letra_secreta in digitadas:\n",
        "      secreto_temporario += letra_secreta\n",
        "    else:\n",
        "      secreto_temporario += '*'\n",
        "  print(secreto_temporario)\n",
        "  if secreto_temporario == secreto:\n",
        "    print(f'Que legal, VOCE GANHOU!! A palavra era {secreto_temporario}')\n",
        "    break\n",
        "  else:\n",
        "    print(f' {secreto_temporario}')\n",
        "  if letra not in secreto:\n",
        "    chances  -= 1\n",
        "  print(f'Voce tem {chances} chances.')\n",
        "  print()"
      ]
    }
  ]
}